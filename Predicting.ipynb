{
 "cells": [
  {
   "cell_type": "markdown",
   "id": "6c138c53",
   "metadata": {},
   "source": [
    "## Class"
   ]
  },
  {
   "cell_type": "code",
   "execution_count": 5,
   "id": "56049b7c",
   "metadata": {},
   "outputs": [],
   "source": [
    "class Category:\n",
    "    BOOKS = \"BOOKS\"\n",
    "    CLOTHING = \"CLOTHING\"\n",
    "    ELECTRONICS = \"ELECTRONICS\"\n",
    "    GROCERY = \"GROCERY\"\n",
    "    PATIO = \"PATIO\"\n",
    "    \n",
    "class Data:\n",
    "    def __init__(self, text, category):\n",
    "        self.text = text\n",
    "        self.category = category"
   ]
  },
  {
   "cell_type": "markdown",
   "id": "52e91bbd",
   "metadata": {},
   "source": [
    "## Load Data"
   ]
  },
  {
   "cell_type": "code",
   "execution_count": 4,
   "id": "029be204",
   "metadata": {},
   "outputs": [],
   "source": [
    "import json"
   ]
  },
  {
   "cell_type": "code",
   "execution_count": 9,
   "id": "33b75831",
   "metadata": {},
   "outputs": [],
   "source": [
    "file_names = [\"Data/Books_small.json\", \"Data/Clothing_small.json\", \"Data/Electronics_small.json\",\n",
    "              \"Data/Grocery_small.json\", \"Data/Patio_small.json\"]\n",
    "file_categories = [Category.BOOKS, Category.CLOTHING, Category.ELECTRONICS, Category.GROCERY, Category.PATIO]\n",
    "\n",
    "datas = []\n",
    "for i in range(len(file_names)):\n",
    "    category = file_categories[i]\n",
    "    file = open(file_names[i])\n",
    "    for x in file:\n",
    "        data_json = json.loads(x)\n",
    "        data = Data(data_json[\"reviewText\"], category)\n",
    "        datas.append(data)"
   ]
  },
  {
   "cell_type": "markdown",
   "id": "96c33733",
   "metadata": {},
   "source": [
    "## Data Preparation"
   ]
  },
  {
   "cell_type": "code",
   "execution_count": 14,
   "id": "328ebabc",
   "metadata": {},
   "outputs": [],
   "source": [
    "from sklearn.model_selection import train_test_split\n",
    "\n",
    "train, test = train_test_split(datas, test_size=0.2, random_state=42)"
   ]
  },
  {
   "cell_type": "code",
   "execution_count": 44,
   "id": "2d54fbac",
   "metadata": {},
   "outputs": [],
   "source": [
    "from sklearn.feature_extraction.text import CountVectorizer\n",
    "\n",
    "X = [x.text for x in train]\n",
    "X_test = [x.text for x in test]\n",
    "\n",
    "vectorizer = CountVectorizer()\n",
    "\n",
    "x_train = vectorizer.fit_transform(X).toarray()\n",
    "y_train = [x.category for x in train]\n",
    "\n",
    "x_test = vectorizer.transform(X_test).toarray()\n",
    "y_test = [x.category for x in test]"
   ]
  },
  {
   "cell_type": "code",
   "execution_count": 46,
   "id": "87de45a8",
   "metadata": {},
   "outputs": [
    {
     "data": {
      "text/plain": [
       "17961"
      ]
     },
     "execution_count": 46,
     "metadata": {},
     "output_type": "execute_result"
    }
   ],
   "source": [
    "len(x_test[0])"
   ]
  },
  {
   "cell_type": "markdown",
   "id": "be51d6db",
   "metadata": {},
   "source": [
    "## Classification"
   ]
  },
  {
   "cell_type": "code",
   "execution_count": 48,
   "id": "a81eddf0",
   "metadata": {},
   "outputs": [
    {
     "data": {
      "text/plain": [
       "DecisionTreeClassifier()"
      ]
     },
     "execution_count": 48,
     "metadata": {},
     "output_type": "execute_result"
    }
   ],
   "source": [
    "from sklearn import tree\n",
    "\n",
    "clf = tree.DecisionTreeClassifier()\n",
    "clf.fit(x_train, y_train)"
   ]
  },
  {
   "cell_type": "code",
   "execution_count": 86,
   "id": "6c527c47",
   "metadata": {},
   "outputs": [
    {
     "name": "stdout",
     "output_type": "stream",
     "text": [
      "0.703\n"
     ]
    }
   ],
   "source": [
    "from sklearn import *\n",
    "print(clf.score(x_test, y_test))"
   ]
  },
  {
   "cell_type": "code",
   "execution_count": 92,
   "id": "5b033adc",
   "metadata": {},
   "outputs": [
    {
     "data": {
      "text/plain": [
       "array(['ELECTRONICS'], dtype='<U11')"
      ]
     },
     "execution_count": 92,
     "metadata": {},
     "output_type": "execute_result"
    }
   ],
   "source": [
    "sentence = [\"This cable\"]\n",
    "\n",
    "clf.predict(vectorizer.transform(sentence).toarray())"
   ]
  },
  {
   "cell_type": "code",
   "execution_count": 97,
   "id": "d20c455e",
   "metadata": {},
   "outputs": [
    {
     "data": {
      "text/plain": [
       "array([0.87037037, 0.67676768, 0.55172414, 0.71755725, 0.67661692])"
      ]
     },
     "execution_count": 97,
     "metadata": {},
     "output_type": "execute_result"
    }
   ],
   "source": [
    "from sklearn.metrics import f1_score\n",
    "\n",
    "y_pred = clf.predict(x_test)\n",
    "\n",
    "f1_score(y_test, y_pred, average=None, labels=[Category.BOOKS, Category.CLOTHING,\n",
    "                                               Category.ELECTRONICS, Category.GROCERY,\n",
    "                                               Category.PATIO])\n"
   ]
  },
  {
   "cell_type": "code",
   "execution_count": 99,
   "id": "130a9727",
   "metadata": {},
   "outputs": [],
   "source": [
    "import pickle\n",
    "\n",
    "with open('models/dectree.pkl', 'wb') as f:\n",
    "    pickle.dump(clf, f)"
   ]
  },
  {
   "cell_type": "code",
   "execution_count": 101,
   "id": "db70feb0",
   "metadata": {},
   "outputs": [],
   "source": [
    "# tree.plot_tree(clf) "
   ]
  },
  {
   "cell_type": "code",
   "execution_count": 105,
   "id": "5ca2f52c",
   "metadata": {},
   "outputs": [],
   "source": [
    "from sklearn import tree\n",
    "\n",
    "tree.export_graphviz(clf, out_file=\"predict_category.dot\",\n",
    "                     feature_names=None,  \n",
    "                     class_names=y_train,  \n",
    "                     filled=True, rounded=True,  \n",
    "                     special_characters=True)"
   ]
  },
  {
   "cell_type": "code",
   "execution_count": null,
   "id": "e429c113",
   "metadata": {},
   "outputs": [],
   "source": []
  }
 ],
 "metadata": {
  "kernelspec": {
   "display_name": "Python 3",
   "language": "python",
   "name": "python3"
  },
  "language_info": {
   "codemirror_mode": {
    "name": "ipython",
    "version": 3
   },
   "file_extension": ".py",
   "mimetype": "text/x-python",
   "name": "python",
   "nbconvert_exporter": "python",
   "pygments_lexer": "ipython3",
   "version": "3.9.1"
  }
 },
 "nbformat": 4,
 "nbformat_minor": 5
}
